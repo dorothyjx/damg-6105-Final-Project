{
 "cells": [
  {
   "cell_type": "code",
   "execution_count": 1,
   "id": "3f58e100",
   "metadata": {},
   "outputs": [],
   "source": [
    "import numpy as np\n",
    "import pandas as pd"
   ]
  },
  {
   "cell_type": "code",
   "execution_count": 2,
   "id": "ab860fd5",
   "metadata": {},
   "outputs": [],
   "source": [
    "def isfloat(num):\n",
    "    if num == \"nan\":\n",
    "        return False\n",
    "    try:\n",
    "        float(num)\n",
    "        return True\n",
    "    except ValueError:\n",
    "        return False\n",
    "\n",
    "\n",
    "def convertToNumber(strVal):\n",
    "    lowerStrVal = str(strVal).lower()\n",
    "#     print(\"original value\", lowerStrVal)\n",
    "    if lowerStrVal.endswith(\"/week\"):\n",
    "        return int(float(strVal[0:len(strVal)-5]) * 52 + float(strVal[0:len(strVal)-5])/7 )\n",
    "    elif lowerStrVal.endswith(\"k\"):\n",
    "        return int(float(strVal[0:len(strVal)-1]) * 1000)\n",
    "    elif lowerStrVal.endswith(\"/month\"):\n",
    "        return int(float(strVal[0:len(strVal)-6]) * 12)\n",
    "    elif lowerStrVal.endswith(\"/year\"):\n",
    "        return int(strVal[0:len(strVal)-5])\n",
    "    elif isfloat(lowerStrVal):\n",
    "        return int(float(lowerStrVal))\n",
    "    else:\n",
    "        return 0\n",
    "\n",
    "def standardizeString(val):\n",
    "    strVal = str(val)\n",
    "    return strVal.title()\n",
    "\n",
    "def convertCadToUsd(cadVal):\n",
    "    usdVal = int(cadVal * 0.78)\n",
    "    return usdVal\n"
   ]
  },
  {
   "cell_type": "code",
   "execution_count": 4,
   "id": "73f79051",
   "metadata": {},
   "outputs": [
    {
     "name": "stdout",
     "output_type": "stream",
     "text": [
      "3.926\n",
      "925.3Y\n",
      "Sdfdfs Dssfs\n",
      "Abc Dsfs Dfd\n",
      "Bca A\n",
      "72000\n",
      "0\n",
      "False\n",
      "False\n",
      "26071\n"
     ]
    }
   ],
   "source": [
    "print(standardizeString(3.926))\n",
    "print(standardizeString(\"925.3y\"))\n",
    "print(standardizeString(\"sdfdfs dsSFs\"))\n",
    "print(standardizeString(\"ABC dsfs dfd\"))\n",
    "print(standardizeString(\"bcA A\"))\n",
    "print(convertToNumber(72000.3))\n",
    "print(convertToNumber(float('nan')))\n",
    "print(isfloat(\"nan\"))\n",
    "print(isfloat(\"na\"))\n",
    "print(convertToNumber('500/week'))"
   ]
  },
  {
   "cell_type": "code",
   "execution_count": 4,
   "id": "ab904239",
   "metadata": {},
   "outputs": [
    {
     "name": "stdout",
     "output_type": "stream",
     "text": [
      "ori_salaryInfo           Company        Offer Time                           Job                 Area    Base  Equity      Bonus Sign-on Full Time/Intern  Title/Level Education  New Grad Working Experience        Return\n",
      "0          Oracle  2021 4th quarter             Software Engineer   Great Seattle Area    160k    300k          0     40k        full time     IC & IC3        MS     False              2.5 y           NaN\n",
      "1           Chewy  2021 4th quarter             Software Engineer   Great Seattle Area    154k    181k        15%     15k             full   IC& SDE II        MS     False                 3y           NaN\n",
      "2           Adobe  2021 4th quarter                  Data Science             Bay Area    160k  187500        15%     16k             full    IC &DS II        MS     False               1.3y           NaN\n",
      "3            Wish  2021 4th quarter             Software Engineer   Great Seattle Area    236K    750k          0     70k             full      IC & L4        MS     False                 4y           NaN\n",
      "4        FaceBook  2021 4th quarter  Machine Learning Engineering   Great Seattle Area    168k    330k        10%     75k             full       IC& E4       PHD      True                 0y           NaN\n",
      "5          Oracle  2021 4th quarter             Software Engineer             Bay Area  163.5k    420k          0     48k             full     IC & IC3        MS     False                 2y           NaN\n",
      "6          Google  2021 4th quarter             Software Engineer             Bay Area    206k    348k        15%     31k             full   IC Level 4        MS     False                 4y           NaN\n",
      "7          Indeed  2021 4th quarter             Software Engineer           Other Area    213k    247k  10% - 20%     95k             full        IC L3        MS     False                10y           NaN\n",
      "8          Google  2021 4th quarter             Software Engineer             Bay Area    205k    499k        15%     30k             full        IC L5        BS     False               6.5y           NaN\n",
      "9          Amazon  2021 4th quarter             Software Engineer               Canada    106k     90k          0   54.5k             full     New grad        BS      True                 0y  Return Offer\n",
      "10       SnapChat  2021 4th quarter             Software Engineer                   LA    180k    534k        10%      5k             full           IC        MS     False                 4y           NaN\n",
      "11  Goldman Sachs  2021 4th quarter             Software Engineer  Great New York Area    110k     NaN         Na     35k             full  IC new grad        BS      True                 0y  Return Offer\n",
      "12         Google  2021 4th quarter             Software Engineer             Bay Area    155k    140k        15%       0             full  IC New grad       PhD      True                 0y  Return Offer\n",
      "13         Amazon  2021 4th quarter             Software Engineer             Bay Area    180k  366.4k          0   40.5k             full      IC SDE2        MS     False               2.5y           NaN\n",
      "14           Uber  2021 4th quarter                  Data Science             Bay Area  150.6k    255k        23k   37.2k             full       IC AS2       PHD      True                 0y           NaN\n",
      "15         Google  2021 4th quarter             Software Engineer             Bay Area    167k   272k%        15%     20k             full        IC L4        MS     False                 2y           NaN\n",
      "16       FaceBook  2021 4th quarter             Software Engineer   Great Seattle Area    169k    365k        10%     70k             full        IC E4        BS     False                 6y           NaN\n",
      "17         google  2021 4th quarter             Software Engineer           Other Area    142k    145k        21%       0             full        IC L4        MS     False                 2y           NaN\n",
      "18      ByteDance  2021 4th quarter             Software Engineer             Bay Area    260k  682.1k        65k       0             full     IC SE2.2        MS     False               2.2y           NaN\n",
      "\n",
      "converted_salaryInfo           Company        Offer Time                           Job                 Area    Base  Equity      Bonus Sign-on Full Time/Intern  Title/Level Education  New Grad Working Experience        Return\n",
      "0          Oracle  2021 4th quarter             Software Engineer   Great Seattle Area  160000  300000          0   40000        full time     IC & IC3        Ms     False              2.5 y           NaN\n",
      "1           Chewy  2021 4th quarter             Software Engineer   Great Seattle Area  154000  181000        15%   15000             full   IC& SDE II        Ms     False                 3y           NaN\n",
      "2           Adobe  2021 4th quarter                  Data Science             Bay Area  160000  187500        15%   16000             full    IC &DS II        Ms     False               1.3y           NaN\n",
      "3            Wish  2021 4th quarter             Software Engineer   Great Seattle Area  236000  750000          0   70000             full      IC & L4        Ms     False                 4y           NaN\n",
      "4        Facebook  2021 4th quarter  Machine Learning Engineering   Great Seattle Area  168000  330000        10%   75000             full       IC& E4       Phd      True                 0y           NaN\n",
      "5          Oracle  2021 4th quarter             Software Engineer             Bay Area  163500  420000          0   48000             full     IC & IC3        Ms     False                 2y           NaN\n",
      "6          Google  2021 4th quarter             Software Engineer             Bay Area  206000  348000        15%   31000             full   IC Level 4        Ms     False                 4y           NaN\n",
      "7          Indeed  2021 4th quarter             Software Engineer           Other Area  213000  247000  10% - 20%   95000             full        IC L3        Ms     False                10y           NaN\n",
      "8          Google  2021 4th quarter             Software Engineer             Bay Area  205000  499000        15%   30000             full        IC L5        Bs     False               6.5y           NaN\n",
      "9          Amazon  2021 4th quarter             Software Engineer               Canada   82680   70200          0   42510             full     New grad        Bs      True                 0y  Return Offer\n",
      "10       Snapchat  2021 4th quarter             Software Engineer                   La  180000  534000        10%    5000             full           IC        Ms     False                 4y           NaN\n",
      "11  Goldman Sachs  2021 4th quarter             Software Engineer  Great New York Area  110000       0         Na   35000             full  IC new grad        Bs      True                 0y  Return Offer\n",
      "12         Google  2021 4th quarter             Software Engineer             Bay Area  155000  140000        15%       0             full  IC New grad       Phd      True                 0y  Return Offer\n",
      "13         Amazon  2021 4th quarter             Software Engineer             Bay Area  180000  366400          0   40500             full      IC SDE2        Ms     False               2.5y           NaN\n",
      "14           Uber  2021 4th quarter                  Data Science             Bay Area  150600  255000        23k   37200             full       IC AS2       Phd      True                 0y           NaN\n",
      "15         Google  2021 4th quarter             Software Engineer             Bay Area  167000       0        15%   20000             full        IC L4        Ms     False                 2y           NaN\n",
      "16       Facebook  2021 4th quarter             Software Engineer   Great Seattle Area  169000  365000        10%   70000             full        IC E4        Bs     False                 6y           NaN\n",
      "17         Google  2021 4th quarter             Software Engineer           Other Area  142000  145000        21%       0             full        IC L4        Ms     False                 2y           NaN\n",
      "18      Bytedance  2021 4th quarter             Software Engineer             Bay Area  260000  682100        65k       0             full     IC SE2.2        Ms     False               2.2y           NaN\n"
     ]
    }
   ],
   "source": [
    "salaryInfo = pd.read_csv(\n",
    "    './salary_infomation.csv', encoding=\"ISO-8859-1\").head(19)\n",
    "print(\"ori_salaryInfo\", salaryInfo.to_string())\n",
    "\n",
    "for index, row in salaryInfo.iterrows():\n",
    "    #print(row)\n",
    "    salaryInfo.at[index, 'Company'] = standardizeString(row['Company'])\n",
    "    # row['Campany'] = standardizeString(row['Campany'])\n",
    "    salaryInfo.at[index, 'Job'] = standardizeString(row['Job'])\n",
    "    salaryInfo.at[index, 'Area'] = standardizeString(row['Area'])\n",
    "    salaryInfo.at[index, 'Education'] = standardizeString(row['Education'])\n",
    "\n",
    "    baseVal = convertToNumber(row['Base'])\n",
    "    equityVal = convertToNumber(row['Equity'])\n",
    "    signOnVal = convertToNumber(row['Sign-on'])\n",
    "\n",
    "    if row[\"Area\"] == \"Canada\":\n",
    "        baseVal = convertCadToUsd(baseVal)\n",
    "        equityVal = convertCadToUsd(equityVal)\n",
    "        signOnVal = convertCadToUsd(signOnVal)\n",
    "\n",
    "    salaryInfo.at[index, 'Base'] = baseVal\n",
    "    salaryInfo.at[index, 'Equity'] = equityVal\n",
    "    salaryInfo.at[index, 'Sign-on'] = signOnVal\n",
    "    \n",
    "print(\"\\nconverted_salaryInfo\", salaryInfo.to_string())"
   ]
  },
  {
   "cell_type": "code",
   "execution_count": null,
   "id": "8b6dbbd5",
   "metadata": {},
   "outputs": [],
   "source": []
  },
  {
   "cell_type": "code",
   "execution_count": null,
   "id": "b36c4303",
   "metadata": {},
   "outputs": [],
   "source": []
  }
 ],
 "metadata": {
  "interpreter": {
   "hash": "5e86604e73240079bc11782d4019fd76a3fe1f810aa7ed53f3b51a80e2550759"
  },
  "kernelspec": {
   "display_name": "Python 3",
   "language": "python",
   "name": "python3"
  },
  "language_info": {
   "codemirror_mode": {
    "name": "ipython",
    "version": 3
   },
   "file_extension": ".py",
   "mimetype": "text/x-python",
   "name": "python",
   "nbconvert_exporter": "python",
   "pygments_lexer": "ipython3",
   "version": "3.8.8"
  }
 },
 "nbformat": 4,
 "nbformat_minor": 5
}
