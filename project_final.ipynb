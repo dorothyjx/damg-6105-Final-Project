{
 "cells": [
  {
   "cell_type": "code",
   "execution_count": 7,
   "id": "3f58e100",
   "metadata": {},
   "outputs": [],
   "source": [
    "import numpy as np\n",
    "import pandas as pd"
   ]
  },
  {
   "cell_type": "code",
   "execution_count": 8,
   "id": "ab860fd5",
   "metadata": {},
   "outputs": [],
   "source": [
    "def isfloat(num):\n",
    "    try:\n",
    "        float(num)\n",
    "        return True\n",
    "    except ValueError:\n",
    "        return False\n",
    "\n",
    "\n",
    "def convertToNumber(strVal):\n",
    "    lowerStrVal = strVal.lower()\n",
    "    print(\"original value\", lowerStrVal)\n",
    "    if lowerStrVal.endswith(\"k\"):\n",
    "        return int(float(strVal[0:len(strVal)-1]) * 1000)\n",
    "    elif lowerStrVal.endswith(\"/month\"):\n",
    "        return int(float(strVal[0:len(strVal)-6]) * 12)\n",
    "    elif lowerStrVal.endswith(\"/year\"):\n",
    "        return int(strVal[0:len(strVal)-5])\n",
    "    elif isfloat(lowerStrVal):\n",
    "        return int(float(lowerStrVal))\n",
    "    else:\n",
    "        return 0\n",
    "\n",
    "def standardizeString(val):\n",
    "    strVal = str(val)\n",
    "    return strVal.title()"
   ]
  },
  {
   "cell_type": "code",
   "execution_count": 9,
   "id": "73f79051",
   "metadata": {},
   "outputs": [
    {
     "name": "stdout",
     "output_type": "stream",
     "text": [
      "3.926\n",
      "925.3Y\n",
      "Sdfdfs Dssfs\n",
      "Abc Dsfs Dfd\n",
      "Bca A\n"
     ]
    }
   ],
   "source": [
    "print(standardizeString(3.926))\n",
    "print(standardizeString(\"925.3y\"))\n",
    "print(standardizeString(\"sdfdfs dsSFs\"))\n",
    "print(standardizeString(\"ABC dsfs dfd\"))\n",
    "print(standardizeString(\"bcA A\"))"
   ]
  },
  {
   "cell_type": "code",
   "execution_count": 10,
   "id": "ab904239",
   "metadata": {},
   "outputs": [
    {
     "name": "stdout",
     "output_type": "stream",
     "text": [
      "    Company        Offer Time                           Job                Area    Base  Equity Bonus Sign-on Full Time/Intern Title/Level Education  New Grad Working Experience Return\n",
      "0    Oracle  2021 4th quarter             Software Engineer  Great Seattle Area    160k    300k     0     40k        full time    IC & IC3        MS     False              2.5 y    NaN\n",
      "1     Chewy  2021 4th quarter             Software Engineer  Great Seattle Area    154k    181k   15%     15k             full  IC& SDE II        MS     False                 3y    NaN\n",
      "2     Adobe  2021 4th quarter                  Data Science            Bay Area    160k  187500   15%     16k             full   IC &DS II        MS     False               1.3y    NaN\n",
      "3      Wish  2021 4th quarter             Software Engineer  Great Seattle Area    236K    750k     0     70k             full     IC & L4        MS     False                 4y    NaN\n",
      "4  FaceBook  2021 4th quarter  Machine Learning Engineering  Great Seattle Area    168k    330k   10%     75k             full      IC& E4       PHD      True                 0y    NaN\n",
      "5    Oracle  2021 4th quarter             Software Engineer            Bay Area  163.5k    420k     0     48k             full    IC & IC3        MS     False                 2y    NaN\n",
      "    Company        Offer Time                           Job                Area    Base  Equity Bonus Sign-on Full Time/Intern Title/Level Education  New Grad Working Experience Return\n",
      "0    Oracle  2021 4th quarter             Software Engineer  Great Seattle Area    160k    300k     0     40k        full time    IC & IC3        Ms     False              2.5 y    NaN\n",
      "1     Chewy  2021 4th quarter             Software Engineer  Great Seattle Area    154k    181k   15%     15k             full  IC& SDE II        Ms     False                 3y    NaN\n",
      "2     Adobe  2021 4th quarter                  Data Science            Bay Area    160k  187500   15%     16k             full   IC &DS II        Ms     False               1.3y    NaN\n",
      "3      Wish  2021 4th quarter             Software Engineer  Great Seattle Area    236K    750k     0     70k             full     IC & L4        Ms     False                 4y    NaN\n",
      "4  Facebook  2021 4th quarter  Machine Learning Engineering  Great Seattle Area    168k    330k   10%     75k             full      IC& E4       Phd      True                 0y    NaN\n",
      "5    Oracle  2021 4th quarter             Software Engineer            Bay Area  163.5k    420k     0     48k             full    IC & IC3        Ms     False                 2y    NaN\n"
     ]
    }
   ],
   "source": [
    "salaryInfo = pd.read_csv(\n",
    "    './salary_infomation.csv', encoding=\"ISO-8859-1\").head(6)\n",
    "\n",
    "print(salaryInfo.to_string())\n",
    "\n",
    "for index, row in salaryInfo.iterrows():\n",
    "    salaryInfo.at[index, 'Company'] = standardizeString(row['Company'])\n",
    "    # row['Campany'] = standardizeString(row['Campany'])\n",
    "    salaryInfo.at[index, 'Job'] = standardizeString(row['Job'])\n",
    "    salaryInfo.at[index, 'Area'] = standardizeString(row['Area'])\n",
    "    # print(row['education'])\n",
    "    # print(row)\n",
    "    salaryInfo.at[index, 'Education'] = standardizeString(row['Education'])\n",
    "\n",
    "print(salaryInfo.to_string())\n"
   ]
  }
 ],
 "metadata": {
  "interpreter": {
   "hash": "5e86604e73240079bc11782d4019fd76a3fe1f810aa7ed53f3b51a80e2550759"
  },
  "kernelspec": {
   "display_name": "Python 3",
   "language": "python",
   "name": "python3"
  },
  "language_info": {
   "codemirror_mode": {
    "name": "ipython",
    "version": 3
   },
   "file_extension": ".py",
   "mimetype": "text/x-python",
   "name": "python",
   "nbconvert_exporter": "python",
   "pygments_lexer": "ipython3",
   "version": "3.8.8"
  }
 },
 "nbformat": 4,
 "nbformat_minor": 5
}
