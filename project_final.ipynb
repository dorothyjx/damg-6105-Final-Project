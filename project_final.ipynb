{
 "cells": [
  {
   "cell_type": "code",
   "execution_count": 13,
   "id": "3f58e100",
   "metadata": {},
   "outputs": [],
   "source": [
    "import numpy as np\n",
    "import pandas as pd"
   ]
  },
  {
   "cell_type": "code",
   "execution_count": 14,
   "id": "ab860fd5",
   "metadata": {},
   "outputs": [],
   "source": [
    "def isfloat(num):\n",
    "    try:\n",
    "        float(num)\n",
    "        return True\n",
    "    except ValueError:\n",
    "        return False\n",
    "\n",
    "\n",
    "def convertToNumber(strVal):\n",
    "    lowerStrVal = strVal.lower()\n",
    "    print(\"original value\", lowerStrVal)\n",
    "    if lowerStrVal.endswith(\"k\"):\n",
    "        return int(float(strVal[0:len(strVal)-1]) * 1000)\n",
    "    elif lowerStrVal.endswith(\"/month\"):\n",
    "        return int(float(strVal[0:len(strVal)-6]) * 12)\n",
    "    elif lowerStrVal.endswith(\"/year\"):\n",
    "        return int(strVal[0:len(strVal)-5])\n",
    "    elif isfloat(lowerStrVal):\n",
    "        return int(float(lowerStrVal))\n",
    "    else:\n",
    "        return 0\n",
    "\n",
    "def standardizeString(val):\n",
    "    strVal = str(val)\n",
    "    return strVal.title()"
   ]
  },
  {
   "cell_type": "code",
   "execution_count": 15,
   "id": "73f79051",
   "metadata": {},
   "outputs": [
    {
     "name": "stdout",
     "output_type": "stream",
     "text": [
      "3.926\n",
      "925.3Y\n",
      "Sdfdfs Dssfs\n",
      "Abc Dsfs Dfd\n",
      "Bca A\n"
     ]
    }
   ],
   "source": [
    "print(standardizeString(3.926))\n",
    "print(standardizeString(\"925.3y\"))\n",
    "print(standardizeString(\"sdfdfs dsSFs\"))\n",
    "print(standardizeString(\"ABC dsfs dfd\"))\n",
    "print(standardizeString(\"bcA A\"))"
   ]
  },
  {
   "cell_type": "code",
   "execution_count": 19,
   "id": "ab904239",
   "metadata": {},
   "outputs": [
    {
     "name": "stdout",
     "output_type": "stream",
     "text": [
      "    Company        Offer Time                           Job                Area    Base  Equity Bonus Sign-on Full Time/Intern Title/Level Education  New Grad Working Experience Return\n",
      "0    Oracle  2021 4th quarter             Software Engineer  Great Seattle Area    160k    300k     0     40k        full time    IC & IC3        MS     False              2.5 y    NaN\n",
      "1     Chewy  2021 4th quarter             Software Engineer  Great Seattle Area    154k    181k   15%     15k             full  IC& SDE II        MS     False                 3y    NaN\n",
      "2     Adobe  2021 4th quarter                  Data Science            Bay Area    160k  187500   15%     16k             full   IC &DS II        MS     False               1.3y    NaN\n",
      "3      Wish  2021 4th quarter             Software Engineer  Great Seattle Area    236K    750k     0     70k             full     IC & L4        MS     False                 4y    NaN\n",
      "4  FaceBook  2021 4th quarter  Machine Learning Engineering  Great Seattle Area    168k    330k   10%     75k             full      IC& E4       PHD      True                 0y    NaN\n",
      "5    Oracle  2021 4th quarter             Software Engineer            Bay Area  163.5k    420k     0     48k             full    IC & IC3        MS     False                 2y    NaN\n",
      "    Company        Offer Time                           Job                Area    Base  Equity Bonus Sign-on Full Time/Intern Title/Level Education  New Grad Working Experience Return\n",
      "0    Oracle  2021 4th quarter             Software Engineer  Great Seattle Area    160k    300k     0     40k        full time    IC & IC3        Ms     False              2.5 y    NaN\n",
      "1     Chewy  2021 4th quarter             Software Engineer  Great Seattle Area    154k    181k   15%     15k             full  IC& SDE II        Ms     False                 3y    NaN\n",
      "2     Adobe  2021 4th quarter                  Data Science            Bay Area    160k  187500   15%     16k             full   IC &DS II        Ms     False               1.3y    NaN\n",
      "3      Wish  2021 4th quarter             Software Engineer  Great Seattle Area    236K    750k     0     70k             full     IC & L4        Ms     False                 4y    NaN\n",
      "4  Facebook  2021 4th quarter  Machine Learning Engineering  Great Seattle Area    168k    330k   10%     75k             full      IC& E4       Phd      True                 0y    NaN\n",
      "5    Oracle  2021 4th quarter             Software Engineer            Bay Area  163.5k    420k     0     48k             full    IC & IC3        Ms     False                 2y    NaN\n"
     ]
    }
   ],
   "source": [
    "salaryInfo = pd.read_csv(\n",
    "    './salary_infomation.csv', encoding=\"ISO-8859-1\").head(6)\n",
    "\n",
    "print(salaryInfo.to_string())\n",
    "\n",
    "for index, row in salaryInfo.iterrows():\n",
    "    salaryInfo.at[index, 'Company'] = standardizeString(row['Company'])\n",
    "    # row['Campany'] = standardizeString(row['Campany'])\n",
    "    salaryInfo.at[index, 'Job'] = standardizeString(row['Job'])\n",
    "    salaryInfo.at[index, 'Area'] = standardizeString(row['Area'])\n",
    "    # print(row['education'])\n",
    "    # print(row)\n",
    "    salaryInfo.at[index, 'Education'] = standardizeString(row['Education'])\n",
    "\n",
    "print(salaryInfo.to_string())\n"
   ]
  },
  {
   "cell_type": "code",
   "execution_count": 6,
   "id": "2778ccd2",
   "metadata": {},
   "outputs": [],
   "source": [
    "WorldRecords = pd.read_csv(\n",
    "    './WorldRecords_1.csv', encoding=\"ISO-8859-1\")\n",
    "# print(WorldRecords.to_string())"
   ]
  },
  {
   "cell_type": "code",
   "execution_count": 7,
   "id": "1b4e4c34",
   "metadata": {},
   "outputs": [
    {
     "name": "stdout",
     "output_type": "stream",
     "text": [
      "original value 100.6k\n",
      "converted value 100600\n",
      "\n",
      "original value 1003.35/month\n",
      "converted value 12040\n",
      "\n",
      "original value 102202/year\n",
      "converted value 102202\n",
      "\n",
      "original value 9.95\n",
      "converted value 9\n",
      "\n",
      "original value 993\n",
      "converted value 993\n",
      "\n"
     ]
    }
   ],
   "source": [
    "dfTimeEvent = WorldRecords[(WorldRecords[\"Type\"] == \"time\")]\n",
    "# get top 5 items of this dateframe\n",
    "dfTimeEvent = dfTimeEvent.head(5)\n",
    "# print(\"dfTimeEvent\", dfTimeEvent)\n",
    "\n",
    "for index, row in dfTimeEvent.iterrows():\n",
    "    record = row['Record']\n",
    "    res = convertToNumber(str(record))\n",
    "    print('converted value', res)\n",
    "    print()\n"
   ]
  },
  {
   "cell_type": "code",
   "execution_count": 11,
   "id": "e6a2c2b7",
   "metadata": {},
   "outputs": [
    {
     "ename": "ParserError",
     "evalue": "Error tokenizing data. C error: Expected 1 fields in line 128, saw 2\n",
     "output_type": "error",
     "traceback": [
      "\u001b[0;31m---------------------------------------------------------------------------\u001b[0m",
      "\u001b[0;31mParserError\u001b[0m                               Traceback (most recent call last)",
      "\u001b[0;32m<ipython-input-11-05e25bd8fd73>\u001b[0m in \u001b[0;36m<module>\u001b[0;34m\u001b[0m\n\u001b[0;32m----> 1\u001b[0;31m salaryInfo = pd.read_csv(\n\u001b[0m\u001b[1;32m      2\u001b[0m     'https://github.com/dorothyjx/damg-6105-Final-Project/blob/main/salary_infomation.csv', encoding=\"ISO-8859-1\").head(6)\n",
      "\u001b[0;32m~/opt/anaconda3/lib/python3.8/site-packages/pandas/io/parsers.py\u001b[0m in \u001b[0;36mread_csv\u001b[0;34m(filepath_or_buffer, sep, delimiter, header, names, index_col, usecols, squeeze, prefix, mangle_dupe_cols, dtype, engine, converters, true_values, false_values, skipinitialspace, skiprows, skipfooter, nrows, na_values, keep_default_na, na_filter, verbose, skip_blank_lines, parse_dates, infer_datetime_format, keep_date_col, date_parser, dayfirst, cache_dates, iterator, chunksize, compression, thousands, decimal, lineterminator, quotechar, quoting, doublequote, escapechar, comment, encoding, dialect, error_bad_lines, warn_bad_lines, delim_whitespace, low_memory, memory_map, float_precision, storage_options)\u001b[0m\n\u001b[1;32m    608\u001b[0m     \u001b[0mkwds\u001b[0m\u001b[0;34m.\u001b[0m\u001b[0mupdate\u001b[0m\u001b[0;34m(\u001b[0m\u001b[0mkwds_defaults\u001b[0m\u001b[0;34m)\u001b[0m\u001b[0;34m\u001b[0m\u001b[0;34m\u001b[0m\u001b[0m\n\u001b[1;32m    609\u001b[0m \u001b[0;34m\u001b[0m\u001b[0m\n\u001b[0;32m--> 610\u001b[0;31m     \u001b[0;32mreturn\u001b[0m \u001b[0m_read\u001b[0m\u001b[0;34m(\u001b[0m\u001b[0mfilepath_or_buffer\u001b[0m\u001b[0;34m,\u001b[0m \u001b[0mkwds\u001b[0m\u001b[0;34m)\u001b[0m\u001b[0;34m\u001b[0m\u001b[0;34m\u001b[0m\u001b[0m\n\u001b[0m\u001b[1;32m    611\u001b[0m \u001b[0;34m\u001b[0m\u001b[0m\n\u001b[1;32m    612\u001b[0m \u001b[0;34m\u001b[0m\u001b[0m\n",
      "\u001b[0;32m~/opt/anaconda3/lib/python3.8/site-packages/pandas/io/parsers.py\u001b[0m in \u001b[0;36m_read\u001b[0;34m(filepath_or_buffer, kwds)\u001b[0m\n\u001b[1;32m    466\u001b[0m \u001b[0;34m\u001b[0m\u001b[0m\n\u001b[1;32m    467\u001b[0m     \u001b[0;32mwith\u001b[0m \u001b[0mparser\u001b[0m\u001b[0;34m:\u001b[0m\u001b[0;34m\u001b[0m\u001b[0;34m\u001b[0m\u001b[0m\n\u001b[0;32m--> 468\u001b[0;31m         \u001b[0;32mreturn\u001b[0m \u001b[0mparser\u001b[0m\u001b[0;34m.\u001b[0m\u001b[0mread\u001b[0m\u001b[0;34m(\u001b[0m\u001b[0mnrows\u001b[0m\u001b[0;34m)\u001b[0m\u001b[0;34m\u001b[0m\u001b[0;34m\u001b[0m\u001b[0m\n\u001b[0m\u001b[1;32m    469\u001b[0m \u001b[0;34m\u001b[0m\u001b[0m\n\u001b[1;32m    470\u001b[0m \u001b[0;34m\u001b[0m\u001b[0m\n",
      "\u001b[0;32m~/opt/anaconda3/lib/python3.8/site-packages/pandas/io/parsers.py\u001b[0m in \u001b[0;36mread\u001b[0;34m(self, nrows)\u001b[0m\n\u001b[1;32m   1055\u001b[0m     \u001b[0;32mdef\u001b[0m \u001b[0mread\u001b[0m\u001b[0;34m(\u001b[0m\u001b[0mself\u001b[0m\u001b[0;34m,\u001b[0m \u001b[0mnrows\u001b[0m\u001b[0;34m=\u001b[0m\u001b[0;32mNone\u001b[0m\u001b[0;34m)\u001b[0m\u001b[0;34m:\u001b[0m\u001b[0;34m\u001b[0m\u001b[0;34m\u001b[0m\u001b[0m\n\u001b[1;32m   1056\u001b[0m         \u001b[0mnrows\u001b[0m \u001b[0;34m=\u001b[0m \u001b[0mvalidate_integer\u001b[0m\u001b[0;34m(\u001b[0m\u001b[0;34m\"nrows\"\u001b[0m\u001b[0;34m,\u001b[0m \u001b[0mnrows\u001b[0m\u001b[0;34m)\u001b[0m\u001b[0;34m\u001b[0m\u001b[0;34m\u001b[0m\u001b[0m\n\u001b[0;32m-> 1057\u001b[0;31m         \u001b[0mindex\u001b[0m\u001b[0;34m,\u001b[0m \u001b[0mcolumns\u001b[0m\u001b[0;34m,\u001b[0m \u001b[0mcol_dict\u001b[0m \u001b[0;34m=\u001b[0m \u001b[0mself\u001b[0m\u001b[0;34m.\u001b[0m\u001b[0m_engine\u001b[0m\u001b[0;34m.\u001b[0m\u001b[0mread\u001b[0m\u001b[0;34m(\u001b[0m\u001b[0mnrows\u001b[0m\u001b[0;34m)\u001b[0m\u001b[0;34m\u001b[0m\u001b[0;34m\u001b[0m\u001b[0m\n\u001b[0m\u001b[1;32m   1058\u001b[0m \u001b[0;34m\u001b[0m\u001b[0m\n\u001b[1;32m   1059\u001b[0m         \u001b[0;32mif\u001b[0m \u001b[0mindex\u001b[0m \u001b[0;32mis\u001b[0m \u001b[0;32mNone\u001b[0m\u001b[0;34m:\u001b[0m\u001b[0;34m\u001b[0m\u001b[0;34m\u001b[0m\u001b[0m\n",
      "\u001b[0;32m~/opt/anaconda3/lib/python3.8/site-packages/pandas/io/parsers.py\u001b[0m in \u001b[0;36mread\u001b[0;34m(self, nrows)\u001b[0m\n\u001b[1;32m   2059\u001b[0m     \u001b[0;32mdef\u001b[0m \u001b[0mread\u001b[0m\u001b[0;34m(\u001b[0m\u001b[0mself\u001b[0m\u001b[0;34m,\u001b[0m \u001b[0mnrows\u001b[0m\u001b[0;34m=\u001b[0m\u001b[0;32mNone\u001b[0m\u001b[0;34m)\u001b[0m\u001b[0;34m:\u001b[0m\u001b[0;34m\u001b[0m\u001b[0;34m\u001b[0m\u001b[0m\n\u001b[1;32m   2060\u001b[0m         \u001b[0;32mtry\u001b[0m\u001b[0;34m:\u001b[0m\u001b[0;34m\u001b[0m\u001b[0;34m\u001b[0m\u001b[0m\n\u001b[0;32m-> 2061\u001b[0;31m             \u001b[0mdata\u001b[0m \u001b[0;34m=\u001b[0m \u001b[0mself\u001b[0m\u001b[0;34m.\u001b[0m\u001b[0m_reader\u001b[0m\u001b[0;34m.\u001b[0m\u001b[0mread\u001b[0m\u001b[0;34m(\u001b[0m\u001b[0mnrows\u001b[0m\u001b[0;34m)\u001b[0m\u001b[0;34m\u001b[0m\u001b[0;34m\u001b[0m\u001b[0m\n\u001b[0m\u001b[1;32m   2062\u001b[0m         \u001b[0;32mexcept\u001b[0m \u001b[0mStopIteration\u001b[0m\u001b[0;34m:\u001b[0m\u001b[0;34m\u001b[0m\u001b[0;34m\u001b[0m\u001b[0m\n\u001b[1;32m   2063\u001b[0m             \u001b[0;32mif\u001b[0m \u001b[0mself\u001b[0m\u001b[0;34m.\u001b[0m\u001b[0m_first_chunk\u001b[0m\u001b[0;34m:\u001b[0m\u001b[0;34m\u001b[0m\u001b[0;34m\u001b[0m\u001b[0m\n",
      "\u001b[0;32mpandas/_libs/parsers.pyx\u001b[0m in \u001b[0;36mpandas._libs.parsers.TextReader.read\u001b[0;34m()\u001b[0m\n",
      "\u001b[0;32mpandas/_libs/parsers.pyx\u001b[0m in \u001b[0;36mpandas._libs.parsers.TextReader._read_low_memory\u001b[0;34m()\u001b[0m\n",
      "\u001b[0;32mpandas/_libs/parsers.pyx\u001b[0m in \u001b[0;36mpandas._libs.parsers.TextReader._read_rows\u001b[0;34m()\u001b[0m\n",
      "\u001b[0;32mpandas/_libs/parsers.pyx\u001b[0m in \u001b[0;36mpandas._libs.parsers.TextReader._tokenize_rows\u001b[0;34m()\u001b[0m\n",
      "\u001b[0;32mpandas/_libs/parsers.pyx\u001b[0m in \u001b[0;36mpandas._libs.parsers.raise_parser_error\u001b[0;34m()\u001b[0m\n",
      "\u001b[0;31mParserError\u001b[0m: Error tokenizing data. C error: Expected 1 fields in line 128, saw 2\n"
     ]
    }
   ],
   "source": []
  },
  {
   "cell_type": "code",
   "execution_count": null,
   "id": "7fae1c7b",
   "metadata": {},
   "outputs": [],
   "source": []
  }
 ],
 "metadata": {
  "interpreter": {
   "hash": "5e86604e73240079bc11782d4019fd76a3fe1f810aa7ed53f3b51a80e2550759"
  },
  "kernelspec": {
   "display_name": "Python 3",
   "language": "python",
   "name": "python3"
  },
  "language_info": {
   "codemirror_mode": {
    "name": "ipython",
    "version": 3
   },
   "file_extension": ".py",
   "mimetype": "text/x-python",
   "name": "python",
   "nbconvert_exporter": "python",
   "pygments_lexer": "ipython3",
   "version": "3.8.8"
  }
 },
 "nbformat": 4,
 "nbformat_minor": 5
}
